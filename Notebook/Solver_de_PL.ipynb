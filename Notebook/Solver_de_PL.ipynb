{
 "cells": [
  {
   "cell_type": "code",
   "execution_count": 16,
   "metadata": {},
   "outputs": [],
   "source": [
    "import sys \n",
    "from pulp import *"
   ]
  },
  {
   "cell_type": "code",
   "execution_count": 18,
   "metadata": {},
   "outputs": [],
   "source": [
    "def createProblem(name,is_max):\n",
    "    return LpProblem(name,(LpMaximize if is_max else LpMinimize))"
   ]
  },
  {
   "cell_type": "code",
   "execution_count": 19,
   "metadata": {},
   "outputs": [
    {
     "name": "stdout",
     "output_type": "stream",
     "text": [
      "Qual o nome do seu problema linear? FabricaDeCalcados\n",
      "Você quer máximizar esse problema? [y]y\n"
     ]
    }
   ],
   "source": [
    "name = input (\"Qual o nome do seu problema linear? \")\n",
    "is_max = True if input (\"Você quer máximizar esse problema? [y]\") == \"y\"  else False \n",
    "\n",
    "problem = createProblem(name,is_max)"
   ]
  },
  {
   "cell_type": "code",
   "execution_count": 20,
   "metadata": {},
   "outputs": [],
   "source": [
    "def createVariables():\n",
    "    num_variables = int(input (\"Quantas variáveis irá precisar para este problema? \"))\n",
    "    vetor = []\n",
    "    for count in range(num_variables):\n",
    "        print(count + 1,\"Variável: \")\n",
    "        name_variable = input(\"Qual o seu nome? \")\n",
    "        low_Bound = int(input(\"Qual seu limite minimo? \"))\n",
    "        up_Bound = int(input(\"Qual seu limite máximo? \"))\n",
    "        vetor.append(LpVariable(name_variable, low_Bound, up_Bound))\n",
    "    return vetor"
   ]
  },
  {
   "cell_type": "code",
   "execution_count": 21,
   "metadata": {},
   "outputs": [
    {
     "name": "stdout",
     "output_type": "stream",
     "text": [
      "Quantas variáveis irá precisar para este problema? 2\n",
      "1 Variável: \n",
      "Qual o seu nome? x1\n",
      "Qual seu limite minimo? 0\n",
      "Qual seu limite máximo? 100\n",
      "2 Variável: \n",
      "Qual o seu nome? x2\n",
      "Qual seu limite minimo? 0\n",
      "Qual seu limite máximo? 100\n"
     ]
    }
   ],
   "source": [
    "variables = createVariables()"
   ]
  },
  {
   "cell_type": "code",
   "execution_count": 22,
   "metadata": {},
   "outputs": [],
   "source": [
    "def createFuncObj(variables,problem):\n",
    "    print (\"Crie agora a função objetivo.\")\n",
    "    func = 0\n",
    "    for count in range(len(variables)):\n",
    "        value = float( input(\"Qual o coeficiente da variável \" + str(variables[count]) + \" ? \"))\n",
    "        func += value*variables[count]\n",
    "    problem += func,\"Total de custos\""
   ]
  },
  {
   "cell_type": "code",
   "execution_count": 23,
   "metadata": {},
   "outputs": [
    {
     "name": "stdout",
     "output_type": "stream",
     "text": [
      "Crie agora a função objetivo.\n",
      "Qual o coeficiente da variável x1 ? 22\n",
      "Qual o coeficiente da variável x2 ? 48\n"
     ]
    }
   ],
   "source": [
    "createFuncObj(variables,problem)"
   ]
  },
  {
   "cell_type": "code",
   "execution_count": 24,
   "metadata": {},
   "outputs": [],
   "source": [
    "def createRestriction(variables,problem,number):\n",
    "    print(\"Crie a\",number,\"° restrição.\")\n",
    "    name_restriction = input(\"Qual o nome desta restrição? \")\n",
    "    restrict = 0\n",
    "    for count in range(len(variables)):\n",
    "        value = float(input(\"Qual o coeficiente da variável \" + str(variables[count]) + \" ? \"))\n",
    "        restrict += value*variables[count]\n",
    "\n",
    "    correct = False\n",
    "\n",
    "    while correct == False:\n",
    "        logic = input(\"Qual é a inequação da \" + str(count) + \"° restrição (\" + name_restriction + \")? (>= ou <=) \")\n",
    "        value_b = float(input(\"Qual é o valor desta restrição? \"))\n",
    "        if logic == \">=\":\n",
    "            problem += restrict >= value_b,name_restriction \n",
    "            correct = True\n",
    "        elif logic == \"<=\":\n",
    "            problem += restrict <= value_b,name_restriction \n",
    "            correct = True\n",
    "        else:\n",
    "            print(\"Opção inválida! Por favor, digite novamente.\")"
   ]
  },
  {
   "cell_type": "code",
   "execution_count": 25,
   "metadata": {},
   "outputs": [
    {
     "name": "stdout",
     "output_type": "stream",
     "text": [
      "Quantas restrições você quer para este problema?3\n",
      "Crie a 1 ° restrição.\n",
      "Qual o nome desta restrição? Material\n",
      "Qual o coeficiente da variável x1 ? 0.3\n",
      "Qual o coeficiente da variável x2 ? 0.5\n",
      "Qual é a inequação da 1° restrição (Material)? (>= ou <=) <=\n",
      "Qual é o valor desta restrição? 15\n",
      "Crie a 2 ° restrição.\n",
      "Qual o nome desta restrição? HorasDeTrabalho\n",
      "Qual o coeficiente da variável x1 ? 3\n",
      "Qual o coeficiente da variável x2 ? 4\n",
      "Qual é a inequação da 1° restrição (HorasDeTrabalho)? (>= ou <=) 120\n",
      "Qual é o valor desta restrição? 120\n",
      "Opção inválida! Por favor, digite novamente.\n",
      "Qual é a inequação da 1° restrição (HorasDeTrabalho)? (>= ou <=) <= \n",
      "Qual é o valor desta restrição? 120\n",
      "Opção inválida! Por favor, digite novamente.\n",
      "Qual é a inequação da 1° restrição (HorasDeTrabalho)? (>= ou <=) <=\n",
      "Qual é o valor desta restrição? 120\n",
      "Crie a 3 ° restrição.\n",
      "Qual o nome desta restrição? MaoDeObra\n",
      "Qual o coeficiente da variável x1 ? 1\n",
      "Qual o coeficiente da variável x2 ? 2\n",
      "Qual é a inequação da 1° restrição (MaoDeObra)? (>= ou <=) <=\n",
      "Qual é o valor desta restrição? 15\n"
     ]
    }
   ],
   "source": [
    "num_restricion = int(input(\"Quantas restrições você quer para este problema?\"))\n",
    "for count in range(num_restricion):\n",
    "    createRestriction(variables,problem,count+1)"
   ]
  },
  {
   "cell_type": "code",
   "execution_count": 26,
   "metadata": {},
   "outputs": [],
   "source": [
    "filepath = name + \".lp\"\n",
    "problem.writeLP(filepath)"
   ]
  },
  {
   "cell_type": "code",
   "execution_count": 27,
   "metadata": {},
   "outputs": [
    {
     "data": {
      "text/plain": [
       "1"
      ]
     },
     "execution_count": 27,
     "metadata": {},
     "output_type": "execute_result"
    }
   ],
   "source": [
    "problem.solve()"
   ]
  },
  {
   "cell_type": "code",
   "execution_count": 28,
   "metadata": {},
   "outputs": [
    {
     "name": "stdout",
     "output_type": "stream",
     "text": [
      "Status :  Optimal\n"
     ]
    }
   ],
   "source": [
    "print(\"Status : \", LpStatus[problem.status])"
   ]
  },
  {
   "cell_type": "code",
   "execution_count": 29,
   "metadata": {},
   "outputs": [
    {
     "name": "stdout",
     "output_type": "stream",
     "text": [
      "x1 0.0\n",
      "x2 7.5\n"
     ]
    }
   ],
   "source": [
    "for variable in problem.variables():\n",
    "    print(variable.name,variable.varValue)"
   ]
  },
  {
   "cell_type": "code",
   "execution_count": 30,
   "metadata": {},
   "outputs": [
    {
     "name": "stdout",
     "output_type": "stream",
     "text": [
      "Custo total : 360.0\n"
     ]
    }
   ],
   "source": [
    "print(\"Custo total :\",value(problem.objective))"
   ]
  }
 ],
 "metadata": {
  "kernelspec": {
   "display_name": "Python 3",
   "language": "python",
   "name": "python3"
  },
  "language_info": {
   "codemirror_mode": {
    "name": "ipython",
    "version": 3
   },
   "file_extension": ".py",
   "mimetype": "text/x-python",
   "name": "python",
   "nbconvert_exporter": "python",
   "pygments_lexer": "ipython3",
   "version": "3.6.6"
  }
 },
 "nbformat": 4,
 "nbformat_minor": 2
}
